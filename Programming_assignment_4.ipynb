{
 "cells": [
  {
   "cell_type": "markdown",
   "id": "684a7408",
   "metadata": {},
   "source": [
    "# Write a Python Program to Find the Factorial of a Number?"
   ]
  },
  {
   "cell_type": "code",
   "execution_count": 6,
   "id": "dc1e0a32",
   "metadata": {},
   "outputs": [
    {
     "name": "stdout",
     "output_type": "stream",
     "text": [
      "Enter your number: 6\n",
      "Factorial of your number is  720\n"
     ]
    }
   ],
   "source": [
    "n = int(input(\"Enter your number: \"))\n",
    "f = 1\n",
    "for i in range(1,n+1):\n",
    "    f = f * i\n",
    "print(\"Factorial of your number is \",f)"
   ]
  },
  {
   "cell_type": "markdown",
   "id": "6d88351b",
   "metadata": {},
   "source": [
    "# Write a Python Program to Display the multiplication Table?"
   ]
  },
  {
   "cell_type": "code",
   "execution_count": 7,
   "id": "15d9001d",
   "metadata": {},
   "outputs": [
    {
     "name": "stdout",
     "output_type": "stream",
     "text": [
      "Display multiplication table of? 6\n",
      "6 x 1 = 6\n",
      "6 x 2 = 12\n",
      "6 x 3 = 18\n",
      "6 x 4 = 24\n",
      "6 x 5 = 30\n",
      "6 x 6 = 36\n"
     ]
    }
   ],
   "source": [
    "num = int(input(\"Display multiplication table of? \"))\n",
    "\n",
    "for i in range(1, num+1):\n",
    "   print(num, 'x', i, '=', num*i)"
   ]
  },
  {
   "cell_type": "markdown",
   "id": "371dbf4c",
   "metadata": {},
   "source": [
    "# Write a Python Program to Print the Fibonacci sequence?"
   ]
  },
  {
   "cell_type": "code",
   "execution_count": 8,
   "id": "6073cd8b",
   "metadata": {},
   "outputs": [
    {
     "name": "stdout",
     "output_type": "stream",
     "text": [
      "Enter your range: 7\n",
      "0\n",
      "1\n",
      "1\n",
      "2\n",
      "3\n",
      "5\n",
      "8\n"
     ]
    }
   ],
   "source": [
    "count = 0\n",
    "n1,n2 = 0, 1\n",
    "nth = 0\n",
    "n = int(input(\"Enter your range: \"))\n",
    "while count < n:\n",
    "       print(n1)\n",
    "       nth = n1 + n2\n",
    "       # update values\n",
    "       n1 = n2\n",
    "       n2 = nth\n",
    "       count += 1"
   ]
  },
  {
   "cell_type": "markdown",
   "id": "35c31893",
   "metadata": {},
   "source": [
    "# Write a Python Program to Check Armstrong Number?"
   ]
  },
  {
   "cell_type": "code",
   "execution_count": 4,
   "id": "fb5424e8",
   "metadata": {},
   "outputs": [
    {
     "name": "stdout",
     "output_type": "stream",
     "text": [
      "Enter your number: 153\n",
      "153 is an Armstrong number\n"
     ]
    }
   ],
   "source": [
    "num = int(input(\"Enter your number: \"))\n",
    "order = len(str(num))\n",
    "sum = 0\n",
    "temp = num\n",
    "while temp > 0:\n",
    "   digit = temp % 10\n",
    "   sum += digit ** order\n",
    "   temp //= 10\n",
    "\n",
    "if num == sum:\n",
    "   print(num,\"is an Armstrong number\")\n",
    "else:\n",
    "   print(num,\"is not an Armstrong number\")\n"
   ]
  },
  {
   "cell_type": "markdown",
   "id": "0bc40b64",
   "metadata": {},
   "source": [
    "# Write a Python Program to Find Armstrong Number in an Interval?"
   ]
  },
  {
   "cell_type": "code",
   "execution_count": 6,
   "id": "8d7fe353",
   "metadata": {},
   "outputs": [
    {
     "name": "stdout",
     "output_type": "stream",
     "text": [
      "Enter your range: 200\n",
      "1 is an Armstrong number\n",
      "2 is an Armstrong number\n",
      "3 is an Armstrong number\n",
      "4 is an Armstrong number\n",
      "5 is an Armstrong number\n",
      "6 is an Armstrong number\n",
      "7 is an Armstrong number\n",
      "8 is an Armstrong number\n",
      "9 is an Armstrong number\n",
      "10 is not an Armstrong number\n",
      "11 is not an Armstrong number\n",
      "12 is not an Armstrong number\n",
      "13 is not an Armstrong number\n",
      "14 is not an Armstrong number\n",
      "15 is not an Armstrong number\n",
      "16 is not an Armstrong number\n",
      "17 is not an Armstrong number\n",
      "18 is not an Armstrong number\n",
      "19 is not an Armstrong number\n",
      "20 is not an Armstrong number\n",
      "21 is not an Armstrong number\n",
      "22 is not an Armstrong number\n",
      "23 is not an Armstrong number\n",
      "24 is not an Armstrong number\n",
      "25 is not an Armstrong number\n",
      "26 is not an Armstrong number\n",
      "27 is not an Armstrong number\n",
      "28 is not an Armstrong number\n",
      "29 is not an Armstrong number\n",
      "30 is not an Armstrong number\n",
      "31 is not an Armstrong number\n",
      "32 is not an Armstrong number\n",
      "33 is not an Armstrong number\n",
      "34 is not an Armstrong number\n",
      "35 is not an Armstrong number\n",
      "36 is not an Armstrong number\n",
      "37 is not an Armstrong number\n",
      "38 is not an Armstrong number\n",
      "39 is not an Armstrong number\n",
      "40 is not an Armstrong number\n",
      "41 is not an Armstrong number\n",
      "42 is not an Armstrong number\n",
      "43 is not an Armstrong number\n",
      "44 is not an Armstrong number\n",
      "45 is not an Armstrong number\n",
      "46 is not an Armstrong number\n",
      "47 is not an Armstrong number\n",
      "48 is not an Armstrong number\n",
      "49 is not an Armstrong number\n",
      "50 is not an Armstrong number\n",
      "51 is not an Armstrong number\n",
      "52 is not an Armstrong number\n",
      "53 is not an Armstrong number\n",
      "54 is not an Armstrong number\n",
      "55 is not an Armstrong number\n",
      "56 is not an Armstrong number\n",
      "57 is not an Armstrong number\n",
      "58 is not an Armstrong number\n",
      "59 is not an Armstrong number\n",
      "60 is not an Armstrong number\n",
      "61 is not an Armstrong number\n",
      "62 is not an Armstrong number\n",
      "63 is not an Armstrong number\n",
      "64 is not an Armstrong number\n",
      "65 is not an Armstrong number\n",
      "66 is not an Armstrong number\n",
      "67 is not an Armstrong number\n",
      "68 is not an Armstrong number\n",
      "69 is not an Armstrong number\n",
      "70 is not an Armstrong number\n",
      "71 is not an Armstrong number\n",
      "72 is not an Armstrong number\n",
      "73 is not an Armstrong number\n",
      "74 is not an Armstrong number\n",
      "75 is not an Armstrong number\n",
      "76 is not an Armstrong number\n",
      "77 is not an Armstrong number\n",
      "78 is not an Armstrong number\n",
      "79 is not an Armstrong number\n",
      "80 is not an Armstrong number\n",
      "81 is not an Armstrong number\n",
      "82 is not an Armstrong number\n",
      "83 is not an Armstrong number\n",
      "84 is not an Armstrong number\n",
      "85 is not an Armstrong number\n",
      "86 is not an Armstrong number\n",
      "87 is not an Armstrong number\n",
      "88 is not an Armstrong number\n",
      "89 is not an Armstrong number\n",
      "90 is not an Armstrong number\n",
      "91 is not an Armstrong number\n",
      "92 is not an Armstrong number\n",
      "93 is not an Armstrong number\n",
      "94 is not an Armstrong number\n",
      "95 is not an Armstrong number\n",
      "96 is not an Armstrong number\n",
      "97 is not an Armstrong number\n",
      "98 is not an Armstrong number\n",
      "99 is not an Armstrong number\n",
      "100 is not an Armstrong number\n",
      "101 is not an Armstrong number\n",
      "102 is not an Armstrong number\n",
      "103 is not an Armstrong number\n",
      "104 is not an Armstrong number\n",
      "105 is not an Armstrong number\n",
      "106 is not an Armstrong number\n",
      "107 is not an Armstrong number\n",
      "108 is not an Armstrong number\n",
      "109 is not an Armstrong number\n",
      "110 is not an Armstrong number\n",
      "111 is not an Armstrong number\n",
      "112 is not an Armstrong number\n",
      "113 is not an Armstrong number\n",
      "114 is not an Armstrong number\n",
      "115 is not an Armstrong number\n",
      "116 is not an Armstrong number\n",
      "117 is not an Armstrong number\n",
      "118 is not an Armstrong number\n",
      "119 is not an Armstrong number\n",
      "120 is not an Armstrong number\n",
      "121 is not an Armstrong number\n",
      "122 is not an Armstrong number\n",
      "123 is not an Armstrong number\n",
      "124 is not an Armstrong number\n",
      "125 is not an Armstrong number\n",
      "126 is not an Armstrong number\n",
      "127 is not an Armstrong number\n",
      "128 is not an Armstrong number\n",
      "129 is not an Armstrong number\n",
      "130 is not an Armstrong number\n",
      "131 is not an Armstrong number\n",
      "132 is not an Armstrong number\n",
      "133 is not an Armstrong number\n",
      "134 is not an Armstrong number\n",
      "135 is not an Armstrong number\n",
      "136 is not an Armstrong number\n",
      "137 is not an Armstrong number\n",
      "138 is not an Armstrong number\n",
      "139 is not an Armstrong number\n",
      "140 is not an Armstrong number\n",
      "141 is not an Armstrong number\n",
      "142 is not an Armstrong number\n",
      "143 is not an Armstrong number\n",
      "144 is not an Armstrong number\n",
      "145 is not an Armstrong number\n",
      "146 is not an Armstrong number\n",
      "147 is not an Armstrong number\n",
      "148 is not an Armstrong number\n",
      "149 is not an Armstrong number\n",
      "150 is not an Armstrong number\n",
      "151 is not an Armstrong number\n",
      "152 is not an Armstrong number\n",
      "153 is an Armstrong number\n",
      "154 is not an Armstrong number\n",
      "155 is not an Armstrong number\n",
      "156 is not an Armstrong number\n",
      "157 is not an Armstrong number\n",
      "158 is not an Armstrong number\n",
      "159 is not an Armstrong number\n",
      "160 is not an Armstrong number\n",
      "161 is not an Armstrong number\n",
      "162 is not an Armstrong number\n",
      "163 is not an Armstrong number\n",
      "164 is not an Armstrong number\n",
      "165 is not an Armstrong number\n",
      "166 is not an Armstrong number\n",
      "167 is not an Armstrong number\n",
      "168 is not an Armstrong number\n",
      "169 is not an Armstrong number\n",
      "170 is not an Armstrong number\n",
      "171 is not an Armstrong number\n",
      "172 is not an Armstrong number\n",
      "173 is not an Armstrong number\n",
      "174 is not an Armstrong number\n",
      "175 is not an Armstrong number\n",
      "176 is not an Armstrong number\n",
      "177 is not an Armstrong number\n",
      "178 is not an Armstrong number\n",
      "179 is not an Armstrong number\n",
      "180 is not an Armstrong number\n",
      "181 is not an Armstrong number\n",
      "182 is not an Armstrong number\n",
      "183 is not an Armstrong number\n",
      "184 is not an Armstrong number\n",
      "185 is not an Armstrong number\n",
      "186 is not an Armstrong number\n",
      "187 is not an Armstrong number\n",
      "188 is not an Armstrong number\n",
      "189 is not an Armstrong number\n",
      "190 is not an Armstrong number\n",
      "191 is not an Armstrong number\n",
      "192 is not an Armstrong number\n",
      "193 is not an Armstrong number\n",
      "194 is not an Armstrong number\n",
      "195 is not an Armstrong number\n",
      "196 is not an Armstrong number\n",
      "197 is not an Armstrong number\n",
      "198 is not an Armstrong number\n",
      "199 is not an Armstrong number\n"
     ]
    }
   ],
   "source": [
    "n = int(input(\"Enter your range: \"))\n",
    "for i in range(1,n):\n",
    "    order = len(str(i))\n",
    "    sum = 0\n",
    "    temp = i\n",
    "    while temp > 0:\n",
    "        digit = temp % 10\n",
    "        sum += digit ** order\n",
    "        temp //= 10\n",
    "    if i == sum:\n",
    "        print(i,\"is an Armstrong number\")\n",
    "    else:\n",
    "        print(i,\"is not an Armstrong number\")\n",
    "    "
   ]
  },
  {
   "cell_type": "markdown",
   "id": "8330450a",
   "metadata": {},
   "source": [
    "# Write a Python Program to Find the Sum of Natural Numbers?"
   ]
  },
  {
   "cell_type": "code",
   "execution_count": 7,
   "id": "6fcc9e0d",
   "metadata": {},
   "outputs": [
    {
     "name": "stdout",
     "output_type": "stream",
     "text": [
      "Enter your range: 10\n",
      "Sum of all the natural numbers is  45\n"
     ]
    }
   ],
   "source": [
    "sum = 0\n",
    "n = int(input(\"Enter your range: \"))\n",
    "for i in range (1,n):\n",
    "    sum = sum + i\n",
    "print (\"Sum of all the natural numbers is \",sum)"
   ]
  },
  {
   "cell_type": "code",
   "execution_count": null,
   "id": "bb47a17f",
   "metadata": {},
   "outputs": [],
   "source": []
  }
 ],
 "metadata": {
  "kernelspec": {
   "display_name": "Python 3 (ipykernel)",
   "language": "python",
   "name": "python3"
  },
  "language_info": {
   "codemirror_mode": {
    "name": "ipython",
    "version": 3
   },
   "file_extension": ".py",
   "mimetype": "text/x-python",
   "name": "python",
   "nbconvert_exporter": "python",
   "pygments_lexer": "ipython3",
   "version": "3.9.7"
  }
 },
 "nbformat": 4,
 "nbformat_minor": 5
}
